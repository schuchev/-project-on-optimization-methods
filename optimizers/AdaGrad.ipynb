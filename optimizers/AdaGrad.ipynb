{
 "cells": [
  {
   "cell_type": "code",
   "execution_count": 4,
   "id": "eb3ff36f",
   "metadata": {},
   "outputs": [],
   "source": [
    "import torch\n",
    "import torch.optim as optim\n",
    "import math\n",
    "\n",
    "class Adagrad(optim.Optimizer):\n",
    "    def __init__(self, params, lr=1e-2, lr_decay=0, weight_decay=0, initial_accumulator_value=0):\n",
    "        defaults = dict(lr=lr, lr_decay=lr_decay, weight_decay=weight_decay, \n",
    "                        initial_accumulator_value=initial_accumulator_value)\n",
    "        super(Adagrad, self).__init__(params, defaults)\n",
    "\n",
    "    @torch.no_grad()\n",
    "    def step(self, closure=None):\n",
    "        loss = closure() if closure is not None else None\n",
    "\n",
    "        for group in self.param_groups:\n",
    "            lr, lr_decay, weight_decay, initial_accumulator_value = \\\n",
    "                group['lr'], group['lr_decay'], group['weight_decay'], group['initial_accumulator_value']\n",
    "\n",
    "            for param in group['params']:\n",
    "                if param.grad is None:\n",
    "                    continue\n",
    "                grad = param.grad.data\n",
    "\n",
    "                if weight_decay != 0:\n",
    "                    grad = grad.add(weight_decay, param.data)\n",
    "\n",
    "                state = self.state[param]\n",
    "\n",
    "                if len(state) == 0:\n",
    "                    state['step'] = 0\n",
    "                    state['accumulator'] = torch.full_like(param.data, initial_accumulator_value)\n",
    "\n",
    "                state['step'] += 1\n",
    "                accumulator = state['accumulator']\n",
    "\n",
    "                accumulator.addcmul_(1, grad, grad)\n",
    "\n",
    "                adjusted_lr = lr / (1 + (state['step'] - 1) * lr_decay)\n",
    "\n",
    "                std = accumulator.sqrt().add_(1e-10)\n",
    "                param.data.addcdiv_(-adjusted_lr, grad, std)\n",
    "\n",
    "        return loss"
   ]
  }
 ],
 "metadata": {
  "kernelspec": {
   "display_name": "Python 3 (Updated)",
   "language": "python",
   "name": "python3"
  },
  "language_info": {
   "codemirror_mode": {
    "name": "ipython",
    "version": 3
   },
   "file_extension": ".py",
   "mimetype": "text/x-python",
   "name": "python",
   "nbconvert_exporter": "python",
   "pygments_lexer": "ipython3",
   "version": "3.9.13"
  }
 },
 "nbformat": 4,
 "nbformat_minor": 5
}
