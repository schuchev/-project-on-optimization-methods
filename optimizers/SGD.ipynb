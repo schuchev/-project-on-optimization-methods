{
 "cells": [
  {
   "cell_type": "code",
   "execution_count": 2,
   "id": "6d7eb4c2",
   "metadata": {},
   "outputs": [],
   "source": [
    "import torch\n",
    "from torch.optim import Optimizer\n",
    "\n",
    "\n",
    "class SGD(Optimizer):\n",
    "    def __init__(self, params, lr=1e-2, momentum=0, dampening=0,\n",
    "                 weight_decay=0, nesterov=False):\n",
    "        defaults = dict(lr=lr, momentum=momentum, dampening=dampening,\n",
    "                        weight_decay=weight_decay, nesterov=nesterov)\n",
    "        super().__init__(params, defaults)\n",
    "\n",
    "    @torch.no_grad()\n",
    "    def step(self, closure=None):\n",
    "        loss = closure() if closure is not None else None\n",
    "\n",
    "        for group in self.param_groups:\n",
    "            lr, momentum, dampening, weight_decay, nesterov = group['lr'], group['momentum'], group['dampening'], group['weight_decay'], group['nesterov']\n",
    "\n",
    "            for p in group['params']:\n",
    "                if p.grad is None:\n",
    "                    continue\n",
    "\n",
    "                grad = p.grad\n",
    "\n",
    "                if weight_decay != 0:\n",
    "                    grad = grad.add(weight_decay, p.data)\n",
    "\n",
    "                state = self.state[p]\n",
    "                if 'momentum_buffer' not in state:\n",
    "                    state['momentum_buffer'] = torch.zeros_like(p.data)\n",
    "\n",
    "                momentum_buffer = state['momentum_buffer']\n",
    "                momentum_buffer.mul_(momentum).add_(grad)\n",
    "\n",
    "                if nesterov:\n",
    "                    grad = grad.add(momentum, momentum_buffer)\n",
    "                else:\n",
    "                    grad = momentum_buffer\n",
    "\n",
    "                p.data.add_(-lr, grad)\n",
    "\n",
    "        return loss"
   ]
  }
 ],
 "metadata": {
  "kernelspec": {
   "display_name": "Python 3 (Updated)",
   "language": "python",
   "name": "python3"
  },
  "language_info": {
   "codemirror_mode": {
    "name": "ipython",
    "version": 3
   },
   "file_extension": ".py",
   "mimetype": "text/x-python",
   "name": "python",
   "nbconvert_exporter": "python",
   "pygments_lexer": "ipython3",
   "version": "3.9.13"
  }
 },
 "nbformat": 4,
 "nbformat_minor": 5
}
